{
  "nbformat": 4,
  "nbformat_minor": 0,
  "metadata": {
    "colab": {
      "provenance": []
    },
    "kernelspec": {
      "name": "python3",
      "display_name": "Python 3"
    },
    "language_info": {
      "name": "python"
    }
  },
  "cells": [
    {
      "cell_type": "markdown",
      "source": [
        "Prak2"
      ],
      "metadata": {
        "id": "NIBwDFGxzqnm"
      }
    },
    {
      "cell_type": "code",
      "source": [
        "def selectionSort(alist):\n",
        "    for slot in range(0,len(alist)-1):\n",
        "        position=slot\n",
        "        for location in range(slot+1,len(alist)):\n",
        "            if alist[location]<alist[position]:\n",
        "                position = location\n",
        "\n",
        "        temp = alist[slot]\n",
        "        alist[slot] = alist[position]\n",
        "        alist[position] = temp\n",
        "        print(alist)\n",
        "angka = [5,1,4,2,8,10,3]\n",
        "selectionSort(angka)\n",
        "print(angka)"
      ],
      "metadata": {
        "colab": {
          "base_uri": "https://localhost:8080/"
        },
        "id": "3_1HuumzuuCB",
        "outputId": "5d90d5b3-301a-4ac5-d7f9-87aa11346a66"
      },
      "execution_count": 2,
      "outputs": [
        {
          "output_type": "stream",
          "name": "stdout",
          "text": [
            "[1, 5, 4, 2, 8, 10, 3]\n",
            "[1, 2, 4, 5, 8, 10, 3]\n",
            "[1, 2, 3, 5, 8, 10, 4]\n",
            "[1, 2, 3, 4, 8, 10, 5]\n",
            "[1, 2, 3, 4, 5, 10, 8]\n",
            "[1, 2, 3, 4, 5, 8, 10]\n",
            "[1, 2, 3, 4, 5, 8, 10]\n"
          ]
        }
      ]
    },
    {
      "cell_type": "markdown",
      "source": [
        "Tuple"
      ],
      "metadata": {
        "id": "MDonpNVqwTi5"
      }
    },
    {
      "cell_type": "code",
      "source": [
        "tup1=('mangga','pisang','semangka',1214,9565,3453)\n",
        "tup2=('bangkok','cina','rusia','india','nepal')\n",
        "tup3=(21,44,98,56,43)\n",
        "\n",
        "print(\"tup1[3]:\", tup3[3])\n",
        "\n",
        "print(\"tup2[1:5]:\", tup2[1:5])\n",
        "\n",
        "tup4=tup1+tup2+tup3\n",
        "print(\"tup4:\",tup4)"
      ],
      "metadata": {
        "colab": {
          "base_uri": "https://localhost:8080/"
        },
        "id": "Mp5hOUj4u8gV",
        "outputId": "1efbe9cb-8ce2-4fb8-baab-3c31eef0fa52"
      },
      "execution_count": 14,
      "outputs": [
        {
          "output_type": "stream",
          "name": "stdout",
          "text": [
            "tup1[3]: 56\n",
            "tup2[1:5]: ('cina', 'rusia', 'india', 'nepal')\n",
            "tup4: ('mangga', 'pisang', 'semangka', 1214, 9565, 3453, 'bangkok', 'cina', 'rusia', 'india', 'nepal', 21, 44, 98, 56, 43)\n"
          ]
        }
      ]
    },
    {
      "cell_type": "markdown",
      "source": [
        "Dictionary"
      ],
      "metadata": {
        "id": "3hOEHVOiwRHy"
      }
    },
    {
      "cell_type": "code",
      "source": [
        "dict={'Nama':'Joko', 'Umur':43, 'Pekerjaan':'Dosen'}\n",
        "\n",
        "print(\"dict['Nama']:\",dict['Nama'], \", dict['Umur']:\",dict['Umur'])\n",
        "\n",
        "dict['Umur']=35\n",
        "print(\"dict[Umur]:\",dict['Umur'])\n",
        "\n",
        "del dict['Pekerjaan']\n",
        "\n"
      ],
      "metadata": {
        "colab": {
          "base_uri": "https://localhost:8080/"
        },
        "id": "ZFqCXKMRufC_",
        "outputId": "a148c1b0-0eca-4b77-9f63-73ca8203bc11"
      },
      "execution_count": 19,
      "outputs": [
        {
          "output_type": "stream",
          "name": "stdout",
          "text": [
            "dict['Nama']: Joko , dict['Umur']: 43\n",
            "dict[Umur]: 35\n"
          ]
        }
      ]
    }
  ]
}
