{
  "nbformat": 4,
  "nbformat_minor": 0,
  "metadata": {
    "colab": {
      "provenance": []
    },
    "kernelspec": {
      "name": "python3",
      "display_name": "Python 3"
    },
    "language_info": {
      "name": "python"
    }
  },
  "cells": [
    {
      "cell_type": "code",
      "execution_count": null,
      "metadata": {
        "colab": {
          "base_uri": "https://localhost:8080/"
        },
        "id": "AAEQ-3bFSZ6I",
        "outputId": "601839b8-e5ac-4188-b2ba-d0611c729c1a"
      },
      "outputs": [
        {
          "output_type": "stream",
          "name": "stdout",
          "text": [
            "deque(['Ram', 'Tarun', 'Asif', 'John'])\n",
            "deque(['Ram', 'Tarun', 'Asif', 'John', 'Akbar'])\n",
            "deque(['Ram', 'Tarun', 'Asif', 'John', 'Akbar', 'Birbal'])\n",
            "Ram\n",
            "Tarun\n",
            "deque(['Asif', 'John', 'Akbar', 'Birbal'])\n"
          ]
        }
      ],
      "source": [
        "from collections import deque #Memanggil funngsi dequeue\n",
        "queue=deque([\"Ram\", \"Tarun\", \"Asif\", \"John\"]) #Memasukkan isi\n",
        "print(queue)\n",
        "queue.append(\"Akbar\") #Menambahkan isi Akbar\n",
        "print(queue)\n",
        "queue.append(\"Birbal\")  #Menambahkan isi Birbal\n",
        "print(queue)\n",
        "print(queue.popleft())  #mengambil isi, yang dimuai dari \"left\"/kiri\n",
        "print(queue.popleft())  #mengambil isi, yang dimuai dari \"left\"/kiri\n",
        "print(queue)  #Menampilkan"
      ]
    },
    {
      "cell_type": "code",
      "source": [
        "def TowerOfHanoi(n, dari, menuju, bantuan):\n",
        "    if n == 0:\n",
        "        return\n",
        "    TowerOfHanoi(n-1, dari, bantuan, menuju)\n",
        "    print(\"Pindah disk\", n, \"dari\", dari, \"ke\", menuju)\n",
        "    TowerOfHanoi(n-1, bantuan, menuju, dari)\n",
        "N=3\n",
        "TowerOfHanoi(N, 'A', 'C', 'B')"
      ],
      "metadata": {
        "colab": {
          "base_uri": "https://localhost:8080/"
        },
        "id": "IoDDfkO_c_2H",
        "outputId": "d656c600-eb91-437d-e6b8-dd219d299a43"
      },
      "execution_count": null,
      "outputs": [
        {
          "output_type": "stream",
          "name": "stdout",
          "text": [
            "Pindah disk 1 dari A ke C\n",
            "Pindah disk 2 dari A ke B\n",
            "Pindah disk 1 dari C ke B\n",
            "Pindah disk 3 dari A ke C\n",
            "Pindah disk 1 dari B ke A\n",
            "Pindah disk 2 dari B ke C\n",
            "Pindah disk 1 dari A ke C\n"
          ]
        }
      ]
    },
    {
      "cell_type": "code",
      "source": [
        "def sortStack(input):\n",
        "    tmpStack = []\n",
        "    while len(input) > 0:\n",
        "        tmp = input[-1]\n",
        "        input.pop()\n",
        "\n",
        "        while len(tmpStack) > 0 and tmpStack[-1] < tmp:\n",
        "            input.append(tmpStack[-1])\n",
        "            tmpStack.pop()\n",
        "\n",
        "        tmpStack.append(tmp)\n",
        "\n",
        "    return tmpStack\n",
        "\n",
        "def sortArrayUsingStacks(arr, n):\n",
        "    input_stack = []\n",
        "    i = 0\n",
        "    while i < n:\n",
        "        input_stack.append(arr[i])\n",
        "        i += 1\n",
        "\n",
        "    tmp_stack = sortStack(input_stack)\n",
        "    i = 0\n",
        "    while i < n:\n",
        "        arr[i] = tmp_stack[-1]\n",
        "        tmp_stack.pop()\n",
        "        i += 1\n",
        "\n",
        "    return arr\n",
        "\n",
        "arr = [10, 5, 15, 45]\n",
        "n = len(arr)\n",
        "\n",
        "arr = sortArrayUsingStacks(arr, n)\n",
        "i = 0\n",
        "while i < n:\n",
        "    print(arr[i], end=\" \")\n",
        "    i += 1\n",
        "\n"
      ],
      "metadata": {
        "colab": {
          "base_uri": "https://localhost:8080/"
        },
        "id": "0uliJSnj4jSH",
        "outputId": "429b6d40-c127-4482-d052-5bc4f2a8565d"
      },
      "execution_count": 7,
      "outputs": [
        {
          "output_type": "stream",
          "name": "stdout",
          "text": [
            "5 10 15 45 "
          ]
        }
      ]
    }
  ]
}