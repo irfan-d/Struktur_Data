{
  "nbformat": 4,
  "nbformat_minor": 0,
  "metadata": {
    "colab": {
      "provenance": []
    },
    "kernelspec": {
      "name": "python3",
      "display_name": "Python 3"
    },
    "language_info": {
      "name": "python"
    }
  },
  "cells": [
    {
      "cell_type": "code",
      "source": [
        "\n",
        "import sys\n",
        "\n",
        "\n",
        "class Graph():\n",
        "\n",
        "    def __init__(self, vertices):\n",
        "        self.V = vertices\n",
        "        self.graph = [[0 for column in range(vertices)]\n",
        "                      for row in range(vertices)]\n",
        "\n",
        "    def printSolution(self, dist):\n",
        "        print(\"Vertices/simpul \\t Nilai Tepi\")\n",
        "        for node in range(self.V):\n",
        "            print(node, \"      \\t         \" , dist[node])\n",
        "\n",
        "    def minDistance(self, dist, sptSet):\n",
        "\n",
        "        min = sys.maxsize\n",
        "\n",
        "        for u in range(self.V):\n",
        "            if dist[u] < min and sptSet[u] == False:\n",
        "                min = dist[u]\n",
        "                min_index = u\n",
        "\n",
        "        return min_index\n",
        "\n",
        "    def dijkstra(self, src):\n",
        "\n",
        "        dist = [sys.maxsize] * self.V\n",
        "        dist[src] = 0\n",
        "        sptSet = [False] * self.V\n",
        "\n",
        "        for cout in range(self.V):\n",
        "\n",
        "            x = self.minDistance(dist, sptSet)\n",
        "\n",
        "            sptSet[x] = True\n",
        "\n",
        "            for y in range(self.V):\n",
        "                if self.graph[x][y] > 0 and sptSet[y] == False and \\\n",
        "                        dist[y] > dist[x] + self.graph[x][y]:\n",
        "                    dist[y] = dist[x] + self.graph[x][y]\n",
        "\n",
        "        self.printSolution(dist)\n",
        "\n",
        "\n",
        "if __name__ == \"__main__\":\n",
        "    g = Graph(7)\n",
        "    g.graph = [ [0, 2, 6, 0, 0, 0, 0],\n",
        "                [2, 0, 0, 5, 0, 0, 0],\n",
        "                [6, 0, 0, 8, 0, 0, 0],\n",
        "                [0, 5, 8, 0, 10, 15, 0],\n",
        "                [0, 0, 0, 10, 0, 6, 2],\n",
        "                [0, 0, 0, 15, 6, 0, 6],\n",
        "                [0, 0, 0, 0, 2, 6, 0]\n",
        "               ]\n",
        "\n",
        "    g.dijkstra(0)"
      ],
      "metadata": {
        "colab": {
          "base_uri": "https://localhost:8080/"
        },
        "id": "VF0zhjO3U5K8",
        "outputId": "288a5990-61b5-42f0-a3b8-47ee0bc40786"
      },
      "execution_count": null,
      "outputs": [
        {
          "output_type": "stream",
          "name": "stdout",
          "text": [
            "Vertices/simpul \t Nilai Tepi\n",
            "0       \t          0\n",
            "1       \t          2\n",
            "2       \t          6\n",
            "3       \t          7\n",
            "4       \t          17\n",
            "5       \t          22\n",
            "6       \t          19\n"
          ]
        }
      ]
    }
  ]
}