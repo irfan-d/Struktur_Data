{
 "cells": [
  {
   "cell_type": "code",
   "execution_count": 24,
   "id": "310ece91",
   "metadata": {},
   "outputs": [
    {
     "name": "stdout",
     "output_type": "stream",
     "text": [
      "[1, 5, 4, 2, 8, 10, 3]\n",
      "[1, 2, 4, 5, 8, 10, 3]\n",
      "[1, 2, 3, 5, 8, 10, 4]\n",
      "[1, 2, 3, 4, 8, 10, 5]\n",
      "[1, 2, 3, 4, 5, 10, 8]\n",
      "[1, 2, 3, 4, 5, 8, 10]\n",
      "[1, 2, 3, 4, 5, 8, 10]\n"
     ]
    }
   ],
   "source": [
    "def selectionSort(alist):\n",
    "    for slot in range(0,len(alist)-1):\n",
    "        position=slot\n",
    "        for location in range(slot+1,len(alist)):\n",
    "            if alist[location]<alist[position]:\n",
    "                position = location\n",
    "            \n",
    "        temp = alist[slot]\n",
    "        alist[slot] = alist[position]\n",
    "        alist[position] = temp\n",
    "        print(alist)\n",
    "angka = [5,1,4,2,8,10,3]\n",
    "selectionSort(angka)\n",
    "print(angka)"
   ]
  }
 ],
 "metadata": {
  "kernelspec": {
   "display_name": "Python 3 (ipykernel)",
   "language": "python",
   "name": "python3"
  },
  "language_info": {
   "codemirror_mode": {
    "name": "ipython",
    "version": 3
   },
   "file_extension": ".py",
   "mimetype": "text/x-python",
   "name": "python",
   "nbconvert_exporter": "python",
   "pygments_lexer": "ipython3",
   "version": "3.11.5"
  }
 },
 "nbformat": 4,
 "nbformat_minor": 5
}
