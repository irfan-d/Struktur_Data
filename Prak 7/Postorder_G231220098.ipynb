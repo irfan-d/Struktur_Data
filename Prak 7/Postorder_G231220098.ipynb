{
  "nbformat": 4,
  "nbformat_minor": 0,
  "metadata": {
    "colab": {
      "provenance": []
    },
    "kernelspec": {
      "name": "python3",
      "display_name": "Python 3"
    },
    "language_info": {
      "name": "python"
    }
  },
  "cells": [
    {
      "cell_type": "code",
      "execution_count": 1,
      "metadata": {
        "colab": {
          "base_uri": "https://localhost:8080/"
        },
        "id": "mggrVYagc8Up",
        "outputId": "799eb745-daf1-41a8-fe73-168f3e36e2b9"
      },
      "outputs": [
        {
          "output_type": "stream",
          "name": "stdout",
          "text": [
            "\n",
            "Postorder traversal of binary tree is\n",
            "4\n",
            "5\n",
            "2\n",
            "3\n",
            "1\n"
          ]
        }
      ],
      "source": [
        "class Node:\n",
        "  def __init__(self, key):\n",
        "    self.left=None\n",
        "    self.right=None\n",
        "    self.val=key\n",
        "def printPostorder(root):\n",
        "   if root:\n",
        "      printPostorder(root.left)\n",
        "      printPostorder(root.right)\n",
        "      print(root.val)\n",
        "\n",
        "\n",
        "if __name__==\"__main__\":\n",
        "    root=Node(1)\n",
        "    root.left=Node(2)\n",
        "    root.right=Node(3)\n",
        "    root.left.left=Node(4)\n",
        "    root.left.right=Node(5)\n",
        "\n",
        "    print(\"\\nPostorder traversal of binary tree is\")\n",
        "    printPostorder(root)\n",
        "\n",
        "\n"
      ]
    }
  ]
}