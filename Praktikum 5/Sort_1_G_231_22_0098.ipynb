{
  "nbformat": 4,
  "nbformat_minor": 0,
  "metadata": {
    "colab": {
      "provenance": []
    },
    "kernelspec": {
      "name": "python3",
      "display_name": "Python 3"
    },
    "language_info": {
      "name": "python"
    }
  },
  "cells": [
    {
      "cell_type": "code",
      "source": [
        "def bubbleSort(ray):    #mendifinisikan sebuah fungsi bernama 'bubbleshort', yg mengambil satu oarameter array\n",
        "  z=len(ray)    #var 'z' diinisiasi dengan panjangnya ray\n",
        "  swapped=False #variabel ini untuk menetukan pertukaran elemen\n",
        "\n",
        "  for i in range(z-1):  #loop untuk memilah sebanyak z-1\n",
        "    for j in range(0, z-i-1): #loop unntuk memilah elemen yang berturut pada setiap langkah 'i'\n",
        "      if ray[j] > ray[j+1]:  #setiap loop kedua memeriksan apakah elemen 'ray[j]' lebih besar dari elemen 'ray[j+i]'\n",
        "        swapped=True      #Jika ya var Swapped diubah true agar ditukar, dan ssebagai karakteristik dari algoritma bubbleshort\n",
        "        ray[j], ray[j+1] = ray[j+1], ray[j]\n",
        "\n",
        "ray=[64,34,25,12,22,11,90]  #nilai array disimpan dengan nama 'ray'\n",
        "bubbleSort(ray)   #Memanggil fungsi bubbleshort untuk mengurutkan\n",
        "\n",
        "print(\"Sorted Array is:\")  #cetak pesan yang memberi tahu bahwa array yangdiurutkan diicetak\n",
        "for i in range(len(ray)): #Mencetak elemen dari array yang telah diurutkan satu oersatu. 'end=\"\"' digunakan agar tidak membuat baris baru\n",
        "  print(\"% d\" % ray[i], end=\"\")"
      ],
      "metadata": {
        "colab": {
          "base_uri": "https://localhost:8080/"
        },
        "id": "o-Nbv_b6Ymuz",
        "outputId": "b70cea37-9216-4333-fce5-f9e92ada36b5"
      },
      "execution_count": 3,
      "outputs": [
        {
          "output_type": "stream",
          "name": "stdout",
          "text": [
            "Sorted Array is:\n",
            " 11 12 22 25 34 64 90"
          ]
        }
      ]
    },
    {
      "cell_type": "code",
      "source": [
        "import sys    #Masukan modul sys\n",
        "a = [64, 25, 12, 22, 11]    #var 'a' untuk menampung isi dari array\n",
        "\n",
        "for i in range(len(a)): #loop for untuk memilah setiap nilai di 'a'\n",
        "    min_idx = i       #indeks minimum\n",
        "    for j in range(i + 1, len(a)):  #memilah melalui indek 'i' dalam array 'a'\n",
        "        if a[min_idx] > a[j]:   #Mengecek untuk setiap elemen dalam indeks 'min_idx' lebih besar dari indeks'j'\n",
        "            min_idx = j       #jika ya, maka nilai'min_idx' diperbarui dengan nilai 'j', indeks j lebih kecil dari 'min_idx'\n",
        "    a[min_idx], a[i] = a[i], a[min_idx] #menukar nilai elemen antar indeks 'i' dan 'min_idx'\n",
        "\n",
        "print(\"Sorted array\") #setelah selsai memilah, cetak pesan yang membari tahu bahwa arayy sudah diurutkan\n",
        "for i in range(len(a)):   # loop For untuk mencetak elemen array yang sudah diurutkan. end=\"\" agar tidal membuat baris baru setiap print\n",
        "    print(\"%d \" % a[i], end=\"\")\n"
      ],
      "metadata": {
        "colab": {
          "base_uri": "https://localhost:8080/"
        },
        "id": "HU5uXqmqX7S3",
        "outputId": "b3958f0b-8dd8-410d-da6b-3cb8744a950b"
      },
      "execution_count": 1,
      "outputs": [
        {
          "output_type": "stream",
          "name": "stdout",
          "text": [
            "Sorted array\n",
            "11 12 22 25 64 "
          ]
        }
      ]
    },
    {
      "cell_type": "code",
      "source": [
        "# Fungsi untuk insertionsort\n",
        "def insertionSort(ray):\n",
        "    for i in range(1, len(ray)):    #loop for untuk smua elemen dalam array mulaii dari elemen ke-2 dari seluruh isi array\n",
        "        key = ray[i]      #Untuk sementara elemen disimpan dalam variabel 'key'\n",
        "        j = i - 1\n",
        "        while j >= 0 and key < ray[j]:  #loop while untuk membandingkan seiap elemen sebelumnya dalamm array\n",
        "            ray[j + 1] = ray[j]        #Jika 'key' lebih kecil, maka akan menggeser elemen lainnya ke kanan sampai posisi yang tepat\n",
        "            j -= 1\n",
        "        ray[j + 1] = key\n",
        "\n",
        "#Pengujian fungsi insertion sort\n",
        "ray = [12, 11, 13, 5, 6]    #Beberapa nilai array yang disimpan dengan anama 'ray'\n",
        "insertionSort(ray)        #Memanggil fungsi insertion sort untuk mengurutkan tiap nilai array di atas\n",
        "for i in range(len(ray)):   #Array yang sudah diurutkan dicetak dengan loop for yang sudah di pilah\n",
        "    print(\"%d\" % ray[i])\n"
      ],
      "metadata": {
        "colab": {
          "base_uri": "https://localhost:8080/"
        },
        "id": "i4TidI6IYB1i",
        "outputId": "2f97aa27-6d39-4b67-8139-e5dc0c7ef38f"
      },
      "execution_count": 2,
      "outputs": [
        {
          "output_type": "stream",
          "name": "stdout",
          "text": [
            "5\n",
            "6\n",
            "11\n",
            "12\n",
            "13\n"
          ]
        }
      ]
    }
  ]
}