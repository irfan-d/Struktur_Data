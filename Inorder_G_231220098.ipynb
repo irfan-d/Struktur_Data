{
  "nbformat": 4,
  "nbformat_minor": 0,
  "metadata": {
    "colab": {
      "provenance": []
    },
    "kernelspec": {
      "name": "python3",
      "display_name": "Python 3"
    },
    "language_info": {
      "name": "python"
    }
  },
  "cells": [
    {
      "cell_type": "code",
      "execution_count": 15,
      "metadata": {
        "colab": {
          "base_uri": "https://localhost:8080/"
        },
        "id": "ooxj7pqNZzoo",
        "outputId": "f7862998-3099-4b16-9c89-b6f0e985d6f8"
      },
      "outputs": [
        {
          "output_type": "stream",
          "name": "stdout",
          "text": [
            "\n",
            "Inorder traversal of binary tree is\n",
            "4\n",
            "2\n",
            "5\n",
            "1\n",
            "3\n"
          ]
        }
      ],
      "source": [
        "class Node:\n",
        "  def __init__(self, key):\n",
        "    self.left=None\n",
        "    self.right=None\n",
        "    self.val=key\n",
        "def printInorder(root):\n",
        "   if root:\n",
        "      printInorder(root.left),\n",
        "      print(root.val),\n",
        "      printInorder(root.right)\n",
        "\n",
        "if __name__==\"__main__\":\n",
        "    root=Node(1)\n",
        "    root.left=Node(2)\n",
        "    root.right=Node(3)\n",
        "    root.left.left=Node(4)\n",
        "    root.left.right=Node(5)\n",
        "\n",
        "    print(\"\\nInorder traversal of binary tree is\")\n",
        "    printInorder(root)\n",
        "\n",
        "\n"
      ]
    }
  ]
}