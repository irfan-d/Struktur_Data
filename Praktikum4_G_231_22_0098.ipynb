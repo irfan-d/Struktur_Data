{
  "nbformat": 4,
  "nbformat_minor": 0,
  "metadata": {
    "colab": {
      "provenance": []
    },
    "kernelspec": {
      "name": "python3",
      "display_name": "Python 3"
    },
    "language_info": {
      "name": "python"
    }
  },
  "cells": [
    {
      "cell_type": "markdown",
      "source": [
        "Pangram"
      ],
      "metadata": {
        "id": "fQKnUI7bdaci"
      }
    },
    {
      "cell_type": "code",
      "execution_count": 21,
      "metadata": {
        "colab": {
          "base_uri": "https://localhost:8080/"
        },
        "id": "2rBXDdkERxeH",
        "outputId": "e5c9b87e-d0ae-4b44-92aa-cb46602811e7"
      },
      "outputs": [
        {
          "output_type": "stream",
          "name": "stdout",
          "text": [
            "\"The quick brown fox jumps over the lazy dog\"\n",
            "\n",
            "is a pangram\n"
          ]
        }
      ],
      "source": [
        "# A Python Program to check if the given\n",
        "# string is a pangram or not\n",
        "\n",
        "def Pangram(s):\n",
        "\n",
        "  List = []     #Buat list kosong\n",
        "\n",
        "# create list of 26 characters and set false each entry\n",
        "  for i in range(26):\n",
        "    List.append(False)\n",
        "\n",
        " # converting the sentence to lowercase and iterating\n",
        " # over the sentence\n",
        "  for char in s.lower():\n",
        "    if not char == \" \":\n",
        "\n",
        " # make the corresponding entry True\n",
        "      List[ord(char) - ord('a')] = True\n",
        " # check if any character is missing then return False\n",
        "  for ch in List:\n",
        "    if ch == False:\n",
        "      return False\n",
        "  return True\n",
        "# Driver Program to test above functions\n",
        "sentence = \"The quick brown fox jumps over the lazy dog\"\n",
        "\n",
        "if (Pangram(sentence)):\n",
        " print('\"'+sentence+'\"')\n",
        " print(\"\\nis a pangram\")\n",
        "else:\n",
        " print('\"'+sentence+'\"')\n",
        " print(\"\\nis not a pangram\")"
      ]
    },
    {
      "cell_type": "markdown",
      "source": [
        "Bukan Pangram"
      ],
      "metadata": {
        "id": "NPWzs93AdWaV"
      }
    },
    {
      "cell_type": "code",
      "source": [
        "# A Python Program to check if the given\n",
        "# string is a pangram or not\n",
        "\n",
        "def Pangram(s):\n",
        "\n",
        "  List = []     #buat list kosong\n",
        "# create list of 26 characters and set false each entry\n",
        "  for i in range(26):\n",
        "    List.append(False)\n",
        "\n",
        " # converting the sentence to lowercase and iterating\n",
        " # over the sentence\n",
        "  for char in s.lower():\n",
        "    if not char == \" \":\n",
        "\n",
        " # make the corresponding entry True\n",
        "      List[ord(char) - ord('a')] = True\n",
        " # check if any character is missing then return False\n",
        "  for ch in List:\n",
        "    if ch == False:\n",
        "      return False\n",
        "  return True\n",
        "\n",
        "# Driver Program to test above functions\n",
        "sentence = \"The quick brown fox jumps over the dog\"\n",
        "\n",
        "if (Pangram(sentence)):\n",
        " print('\"'+sentence+'\"')\n",
        " print(\"\\nis a pangram\")\n",
        "else:\n",
        " print('\"'+sentence+'\"')\n",
        " print(\"\\nis not a pangram\")"
      ],
      "metadata": {
        "colab": {
          "base_uri": "https://localhost:8080/"
        },
        "id": "H5uVprdbTZAw",
        "outputId": "fa865b79-6d66-4dae-8c5d-da64ed20f8ee"
      },
      "execution_count": 20,
      "outputs": [
        {
          "output_type": "stream",
          "name": "stdout",
          "text": [
            "\"The quick brown fox jumps over the dog\"\n",
            "\n",
            "is not a pangram\n"
          ]
        }
      ]
    }
  ]
}