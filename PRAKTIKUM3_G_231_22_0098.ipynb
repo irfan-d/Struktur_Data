{
  "nbformat": 4,
  "nbformat_minor": 0,
  "metadata": {
    "colab": {
      "provenance": []
    },
    "kernelspec": {
      "name": "python3",
      "display_name": "Python 3"
    },
    "language_info": {
      "name": "python"
    }
  },
  "cells": [
    {
      "cell_type": "code",
      "source": [
        "def convert(s):\n",
        " new = \"\"\n",
        " for x in s:\n",
        "  new += x\n",
        " return new\n",
        "\n",
        "# driver code\n",
        "s = ['g', 'e', 'e', 'k', 's', 'f', 'o', 'r','g', 'e', 'e', 'k', 's']\n",
        "print(convert(s))\n"
      ],
      "metadata": {
        "colab": {
          "base_uri": "https://localhost:8080/"
        },
        "id": "N5zFfv_ALwxl",
        "outputId": "55e7bf4b-e4bd-4d35-d31e-ead3936f1772"
      },
      "execution_count": 3,
      "outputs": [
        {
          "output_type": "stream",
          "name": "stdout",
          "text": [
            "geeksforgeeks\n"
          ]
        }
      ]
    },
    {
      "cell_type": "code",
      "source": [
        "def convert(s):\n",
        " new = \"\"\n",
        " for x in s:\n",
        "  new += x\n",
        " return new\n",
        "\n",
        "t = ['p', 'r', 'o', 'g', 'r', 'a', 'm',\n",
        " 'm', 'i', 'n', 'g']\n",
        "print(convert(t))"
      ],
      "metadata": {
        "colab": {
          "base_uri": "https://localhost:8080/"
        },
        "id": "ZTcnAmPqL6st",
        "outputId": "233ad46d-51cf-44ff-973d-cd0f9435ffab"
      },
      "execution_count": 5,
      "outputs": [
        {
          "output_type": "stream",
          "name": "stdout",
          "text": [
            "programming\n"
          ]
        }
      ]
    },
    {
      "cell_type": "code",
      "source": [],
      "metadata": {
        "id": "Lvn4hQphL6vU"
      },
      "execution_count": null,
      "outputs": []
    }
  ]
}