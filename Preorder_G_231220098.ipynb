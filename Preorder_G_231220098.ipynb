{
  "nbformat": 4,
  "nbformat_minor": 0,
  "metadata": {
    "colab": {
      "provenance": []
    },
    "kernelspec": {
      "name": "python3",
      "display_name": "Python 3"
    },
    "language_info": {
      "name": "python"
    }
  },
  "cells": [
    {
      "cell_type": "code",
      "execution_count": 4,
      "metadata": {
        "colab": {
          "base_uri": "https://localhost:8080/"
        },
        "id": "UrX6dsZpc9jH",
        "outputId": "4ffaf111-ec54-4cbd-d5bf-d456926b9b76"
      },
      "outputs": [
        {
          "output_type": "stream",
          "name": "stdout",
          "text": [
            "\n",
            "Preorder traversal of binary tree is\n",
            "1\n",
            "2\n",
            "4\n",
            "5\n",
            "3\n"
          ]
        }
      ],
      "source": [
        "class Node:\n",
        "  def __init__(self, key):\n",
        "    self.left=None\n",
        "    self.right=None\n",
        "    self.val=key\n",
        "def printPreorder(root):\n",
        "   if root:\n",
        "      print(root.val),\n",
        "      printPreorder(root.left),\n",
        "      printPreorder(root.right)\n",
        "\n",
        "if __name__==\"__main__\":\n",
        "    root=Node(1)\n",
        "    root.left=Node(2)\n",
        "    root.right=Node(3)\n",
        "    root.left.left=Node(4)\n",
        "    root.left.right=Node(5)\n",
        "\n",
        "    print(\"\\nPreorder traversal of binary tree is\")\n",
        "    printPreorder(root)\n",
        "\n",
        "\n"
      ]
    }
  ]
}